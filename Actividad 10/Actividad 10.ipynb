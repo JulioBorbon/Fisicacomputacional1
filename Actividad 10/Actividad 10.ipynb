{
 "cells": [
  {
   "cell_type": "code",
   "execution_count": 33,
   "metadata": {},
   "outputs": [
    {
     "data": {
      "image/png": "[encoded data removed]",
      "text/plain": [
       "<Figure size 432x288 with 1 Axes>"
      ]
     },
     "metadata": {
      "needs_background": "light"
     },
     "output_type": "display_data"
    }
   ],
   "source": [
    "import numpy as np\n",
    "import math\n",
    "import matplotlib.pyplot as plt\n",
    "from scipy.integrate import ode\n",
    "\n",
    "\n",
    "\n",
    "def fun(t, z, gamma, omega, delta, alfa, beta):\n",
    "#  \"\"\"\n",
    " # !  Right hand side of the differential equations\n",
    "  #    dx/dt = -omega * y\n",
    "   #   dy/dt = omega * x\n",
    "    #\"\"\"\n",
    "        x, y = z\n",
    "        f = [y, gamma*math.cos(omega*t) - delta*y - alfa*x - beta*x**3]\n",
    "        return f\n",
    "\n",
    "wa = []\n",
    "ga = []\n",
    "\n",
    "for i in range(0,100):\n",
    "# Create an `ode` instance to solve the system of differential\n",
    "# equations defined by `fun`, and set the solver method to 'dop853'.\n",
    "    solver = ode(fun)\n",
    "    solver.set_integrator('dopri5')\n",
    "\n",
    "\n",
    "# Give the value of omega to the solver. This is passed to\n",
    "# `fun` when the solver calls it.\n",
    "gamma = 1\n",
    "alfa = 1\n",
    "omega = i*0.01\n",
    "delta = 0.1\n",
    "beta = 0.04\n",
    "solver.set_f_params(gamma, omega, delta, alfa, beta)\n",
    "\n",
    "# Set the initial value z(0) = z0.\n",
    "t0 = 0.0\n",
    "z0 = [1.05, 0.0]\n",
    "solver.set_initial_value(z0, t0)\n",
    "\n",
    "# Create the array `t` of time values at which to compute\n",
    "# the solution, and create an array to hold the solution.\n",
    "# Put the initial value in the solution array.\n",
    "t1 = 15\n",
    "N = 2000\n",
    "t = np.linspace(t0, t1, N)\n",
    "sol = np.empty((N, 2))\n",
    "sol[0] = z0\n",
    "\n",
    "\n",
    "# Repeatedly call the `integrate` method to advance the\n",
    "# solution to time t[k], and save the solution in sol[k].\n",
    "k = 1\n",
    "while solver.successful() and solver.t < t1:\n",
    "    solver.integrate(t[k])\n",
    "    sol[k] = solver.y\n",
    "    k += 1\n",
    "    x = sol[:,0]\n",
    "   \n",
    "    ga.append(max(abs(x)))\n",
    "    wa.append(omega)\n",
    "    \n",
    "    \n",
    "# Plot the solution...\n",
    "plt.plot(t, sol[:,0], label='x')\n",
    "plt.plot(wi1, zw1, label='y')\n",
    "plt.xlabel('t')\n",
    "plt.grid(True)\n",
    "plt.legend()\n",
    "plt.show()"
   ]
  },
  {
   "cell_type": "code",
   "execution_count": null,
   "metadata": {},
   "outputs": [],
   "source": []
  }
 ],
 "metadata": {
  "kernelspec": {
   "display_name": "Python 3",
   "language": "python",
   "name": "python3"
  },
  "language_info": {
   "codemirror_mode": {
    "name": "ipython",
    "version": 3
   },
   "file_extension": ".py",
   "mimetype": "text/x-python",
   "name": "python",
   "nbconvert_exporter": "python",
   "pygments_lexer": "ipython3",
   "version": "3.7.3"
  }
 },
 "nbformat": 4,
 "nbformat_minor": 2
}
