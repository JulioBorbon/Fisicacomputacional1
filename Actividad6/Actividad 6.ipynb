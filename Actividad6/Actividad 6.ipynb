{
 "cells": [
  {
   "cell_type": "code",
   "execution_count": 21,
   "metadata": {},
   "outputs": [],
   "source": [
    "#Se cargan las librerias\n",
    "import pandas as pd\n",
    "import numpy as np\n",
    "import matplotlib.pyplot as plt"
   ]
  },
  {
   "cell_type": "code",
   "execution_count": 22,
   "metadata": {},
   "outputs": [],
   "source": [
    "##Se lee el archivo y se le asigna la variable df9\n",
    "df9 = pd.read_csv('vid18_180219.dat', skiprows=1, sep=',',header=None,names=[\"TIMESTAMP\",\"RECORD\",\"batt_volt_Min\",\"logger_temp\",\"short_up_Avg\",\"short_dn_Avg\",\"long_up_Avg\",\"long_dn_Avg\",\"cnr4_T_C_Avg\",\"cnr4_T_K_Avg\",\"long_up_corr_Avg\",\"long_dn_corr_Avg\",\"Rs_net_Avg\",\"Rl_net_Avg\",\"albedo_Avg\",\"Rn_Avg\",\"AirTC_Avg\",\"RH\",\"WS_ms_S_WVT\",\"WindDir_D1_WVT\",\"WindDir_SD1_WVT\",\"Temp_C_Avg(1)\",\"Temp_C_Avg(2)\",\"Temp_C_Avg(3)\",\"Temp_C_Avg(4)\",\"Result1_Avg\",\"Result2_Avg\",\"Result3_Avg\",\"Result4_Avg\",\"Result5_Avg\",\"Result6_Avg\",\"Result7_Avg\",\"Result8_Avg\",\"Result9_Avg\",\"Riego_mm_Tot\",\"Perco_mm_Tot\"])"
   ]
  },
  {
   "cell_type": "code",
   "execution_count": 23,
   "metadata": {},
   "outputs": [],
   "source": [
    "#Se transforma nuestra columna TIMESTAMP que representa el tiempo en datetime\n",
    "df9['TIMESTAMP'] = pd.to_datetime(df9.apply(lambda x: x['TIMESTAMP'], 1), dayfirst=True)\n",
    "df9 = pd.DataFrame(df9)"
   ]
  },
  {
   "cell_type": "code",
   "execution_count": 24,
   "metadata": {},
   "outputs": [],
   "source": [
    "#Solo nos interesan 2 columnas  TIMESTAMP (Fecha) y  AirTC_Avg (Temperatura del aire, ºC).\n",
    "df9 = df9[['TIMESTAMP','AirTC_Avg']]\n",
    "#Creamos una columna para los días, años, meses y horas\n",
    "df9['MES'] = df9['TIMESTAMP'].dt.month\n",
    "df9['AÑO'] = df9['TIMESTAMP'].dt.year\n",
    "df9['DIA'] = df9['TIMESTAMP'].dt.day\n",
    "df9['HORA'] = df9['TIMESTAMP'].dt.hour\n",
    "\n",
    "#Sacamos la temperatura media por hora que es con la que vamos a trabajar \n",
    "dfmedia = df9.set_index('TIMESTAMP').resample('H').mean()\n",
    "\n",
    "#Se agarran los valores desde noviembre hasta el ultimo dato\n",
    "dfmedia = dfmedia.loc['2018-11-01 00:00:00':'2019-02-18 07:30:00']\n",
    "\n",
    "#Se s aca la necesaria temperatura minima por dia \n",
    "dfmedia['TMIN']=dfmedia.groupby(['AÑO','MES','DIA'])['AirTC_Avg'].transform('min')"
   ]
  },
  {
   "cell_type": "code",
   "execution_count": 25,
   "metadata": {},
   "outputs": [],
   "source": [
    "#Calculamos las HFE\n",
    "conditions = [\n",
    "    (dfmedia['AirTC_Avg']<= 10) & (dfmedia['TMIN'] <= 10),\n",
    "    (dfmedia['AirTC_Avg']>= 25) & (dfmedia['TMIN'] <= 10),\n",
    "     (dfmedia['TMIN']>=10)]\n",
    "choices = [1, -1, 0]\n",
    "dfmedia['HFE'] = np.select(conditions, choices, default=0)\n"
   ]
  },
  {
   "cell_type": "code",
   "execution_count": 26,
   "metadata": {},
   "outputs": [],
   "source": [
    "#Ahora se calculas las HFE acumuladas y cambiamos el data frame a puros días \n",
    "dfmedia = dfmedia.reset_index()"
   ]
  },
  {
   "cell_type": "code",
   "execution_count": 27,
   "metadata": {},
   "outputs": [],
   "source": [
    "dfmedia = dfmedia.set_index('TIMESTAMP').resample('D').sum()"
   ]
  },
  {
   "cell_type": "code",
   "execution_count": 28,
   "metadata": {},
   "outputs": [],
   "source": [
    "dfmedia.drop(['AirTC_Avg','MES','DIA','HORA','TMIN','AÑO'], axis = 1, inplace = True, errors = 'ignore')\n",
    "dfmedia = dfmedia.reset_index()"
   ]
  },
  {
   "cell_type": "code",
   "execution_count": 29,
   "metadata": {},
   "outputs": [],
   "source": [
    "dfmedia[\"HFEA\"]=dfmedia[\"HFE\"].cumsum()\n"
   ]
  },
  {
   "cell_type": "code",
   "execution_count": 30,
   "metadata": {},
   "outputs": [
    {
     "data": {
      "text/plain": [
       "<matplotlib.axes._subplots.AxesSubplot at 0x249e4ea9b70>"
      ]
     },
     "execution_count": 30,
     "metadata": {},
     "output_type": "execute_result"
    },
    {
     "data": {
      "image/png": "[encoded data removed]",
      "text/plain": [
       "<Figure size 432x288 with 1 Axes>"
      ]
     },
     "metadata": {
      "needs_background": "light"
     },
     "output_type": "display_data"
    }
   ],
   "source": [
    "dfmedia.reset_index().plot(x=\"TIMESTAMP\",y=[\"HFEA\"])\n"
   ]
  },
  {
   "cell_type": "code",
   "execution_count": 31,
   "metadata": {},
   "outputs": [],
   "source": [
    "#Ahora tendremos 2 columnas de HFEA pero una sera la del modelo de UTAH\n",
    "#Sacamos la temperatura media por hora que es con la que vamos a trabajar \n",
    "dfmediaa = df9.set_index('TIMESTAMP').resample('H').mean()"
   ]
  },
  {
   "cell_type": "code",
   "execution_count": 32,
   "metadata": {},
   "outputs": [],
   "source": [
    "#Se agarran los valores desde noviembre hasta el ultimo dato\n",
    "dfmediaa = dfmediaa.loc['2018-11-01 00:00:00':'2019-02-18 07:30:00']\n",
    "\n",
    "\n",
    "#Establecemos condiciones para los valores de UF\n",
    "conditions = [\n",
    "    (dfmediaa['AirTC_Avg'] >= 1.5) & (dfmediaa['AirTC_Avg'] <= 2.4),\n",
    "    (dfmediaa['AirTC_Avg'] >= 2.5) & (dfmediaa['AirTC_Avg'] <= 9.1),\n",
    "    (dfmediaa['AirTC_Avg'] >= 9.2) & (dfmediaa['AirTC_Avg'] <= 12.4),\n",
    "    (dfmediaa['AirTC_Avg'] >= 12.5) & (dfmediaa['AirTC_Avg'] <= 15.9),\n",
    "    (dfmediaa['AirTC_Avg'] >= 16) & (dfmediaa['AirTC_Avg'] <=18),\n",
    "    (dfmediaa['AirTC_Avg'] > 18 )]\n",
    "\n",
    "choices = [0.5, 1.0, 0.5, 0, -0.5, -1.0]\n",
    "#LE damos los valores a UF\n",
    "dfmediaa['UF'] = np.select(conditions, choices, default=0)\n",
    "\n",
    "#Se calcula UF24\n",
    "dfmediaa['UF24'] = dfmediaa.groupby(['AÑO','MES','DIA'])['UF'].transform('sum')\n",
    "\n",
    "#Se crea una tabla df10 con la suma por hora\n",
    "df10 = dfmediaa[['AirTC_Avg']]\n",
    "df10 = df10.resample('D').sum()\n",
    "\n",
    "\n",
    "#Se le asigna el valor de la suma a una nueva columna UF24\n",
    "df10 ['UF'] = dfmediaa['UF24']\n",
    "\n",
    "#Se crea un nuevo data frame con la media por dìa, si lel valor se mantiene igual todo el dìa no tiene que cambiar\n",
    "dfdia = dfmediaa.resample('D').mean()"
   ]
  },
  {
   "cell_type": "code",
   "execution_count": 36,
   "metadata": {},
   "outputs": [],
   "source": [
    "dfdia.drop(['AirTC_Avg','MES','DIA','HORA','AÑO', 'UF'], axis = 1, inplace = True, errors = 'ignore')"
   ]
  },
  {
   "cell_type": "code",
   "execution_count": 51,
   "metadata": {},
   "outputs": [],
   "source": [
    "dfdia['UFA'] = dfdia['UF24'].cumsum()\n",
    "dfmedia['UFA'] = dfdia['UFA']\n",
    "\n"
   ]
  },
  {
   "cell_type": "code",
   "execution_count": 50,
   "metadata": {},
   "outputs": [],
   "source": [
    "dfdia = dfdia.reset_index()"
   ]
  },
  {
   "cell_type": "code",
   "execution_count": 53,
   "metadata": {},
   "outputs": [
    {
     "data": {
      "text/html": [
       "<div>\n",
       "<style scoped>\n",
       "    .dataframe tbody tr th:only-of-type {\n",
       "        vertical-align: middle;\n",
       "    }\n",
       "\n",
       "    .dataframe tbody tr th {\n",
       "        vertical-align: top;\n",
       "    }\n",
       "\n",
       "    .dataframe thead th {\n",
       "        text-align: right;\n",
       "    }\n",
       "</style>\n",
       "<table border=\"1\" class=\"dataframe\">\n",
       "  <thead>\n",
       "    <tr style=\"text-align: right;\">\n",
       "      <th></th>\n",
       "      <th>TIMESTAMP</th>\n",
       "      <th>HFE</th>\n",
       "      <th>HFEA</th>\n",
       "      <th>UFA</th>\n",
       "    </tr>\n",
       "  </thead>\n",
       "  <tbody>\n",
       "    <tr>\n",
       "      <th>0</th>\n",
       "      <td>2018-11-01</td>\n",
       "      <td>2</td>\n",
       "      <td>2</td>\n",
       "      <td>-0.5</td>\n",
       "    </tr>\n",
       "    <tr>\n",
       "      <th>1</th>\n",
       "      <td>2018-11-02</td>\n",
       "      <td>0</td>\n",
       "      <td>2</td>\n",
       "      <td>-9.5</td>\n",
       "    </tr>\n",
       "    <tr>\n",
       "      <th>2</th>\n",
       "      <td>2018-11-03</td>\n",
       "      <td>0</td>\n",
       "      <td>2</td>\n",
       "      <td>-19.0</td>\n",
       "    </tr>\n",
       "    <tr>\n",
       "      <th>3</th>\n",
       "      <td>2018-11-04</td>\n",
       "      <td>0</td>\n",
       "      <td>2</td>\n",
       "      <td>-30.5</td>\n",
       "    </tr>\n",
       "    <tr>\n",
       "      <th>4</th>\n",
       "      <td>2018-11-05</td>\n",
       "      <td>0</td>\n",
       "      <td>2</td>\n",
       "      <td>-38.5</td>\n",
       "    </tr>\n",
       "  </tbody>\n",
       "</table>\n",
       "</div>"
      ],
      "text/plain": [
       "   TIMESTAMP  HFE  HFEA   UFA\n",
       "0 2018-11-01    2     2  -0.5\n",
       "1 2018-11-02    0     2  -9.5\n",
       "2 2018-11-03    0     2 -19.0\n",
       "3 2018-11-04    0     2 -30.5\n",
       "4 2018-11-05    0     2 -38.5"
      ]
     },
     "execution_count": 53,
     "metadata": {},
     "output_type": "execute_result"
    }
   ],
   "source": [
    "dfmedia.head()"
   ]
  },
  {
   "cell_type": "code",
   "execution_count": null,
   "metadata": {},
   "outputs": [],
   "source": []
  }
 ],
 "metadata": {
  "kernelspec": {
   "display_name": "Python 3",
   "language": "python",
   "name": "python3"
  },
  "language_info": {
   "codemirror_mode": {
    "name": "ipython",
    "version": 3
   },
   "file_extension": ".py",
   "mimetype": "text/x-python",
   "name": "python",
   "nbconvert_exporter": "python",
   "pygments_lexer": "ipython3",
   "version": "3.7.3"
  }
 },
 "nbformat": 4,
 "nbformat_minor": 2
}
