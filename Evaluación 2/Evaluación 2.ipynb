{
 "cells": [
  {
   "cell_type": "code",
   "execution_count": 1,
   "metadata": {},
   "outputs": [],
   "source": [
    "#Se cargan las librerias\n",
    "import pandas as pd\n",
    "import numpy as np\n",
    "import matplotlib.pyplot as plt"
   ]
  },
  {
   "cell_type": "code",
   "execution_count": 2,
   "metadata": {},
   "outputs": [],
   "source": [
    "##Se leen ambos archivos y se les asginan variables\n",
    "df = pd.read_csv('flujos-vid-2018.csv', engine='python')\n",
    "df = df.drop(df.index[0]).reset_index(drop=True)\n",
    "df = pd.DataFrame(df)\n",
    "\n",
    "fd = pd.read_csv('meteo-vid-2018.csv', engine='python')\n",
    "fd = fd.drop(df.index[0]).reset_index(drop=True)\n",
    "fd = pd.DataFrame(fd)  \n",
    "cols = ['albedo_Avg']\n",
    "fd[cols] = fd[cols].apply(pd.to_numeric, errors='coerce', axis=1)\n",
    "\n",
    "dfw = pd.read_csv('meteo-vid-2018.csv', engine='python')\n"
   ]
  },
  {
   "cell_type": "code",
   "execution_count": 3,
   "metadata": {},
   "outputs": [],
   "source": [
    "dfw = dfw.drop(dfw.columns[2:110], axis=1, inplace=False)   \n",
    "dfw['albedo']= fd['albedo_Avg']\n",
    "dfw['AIRTC_AVG'] = fd['AirTC_Avg']\n",
    "dfw['RH'] = fd['RH']\n",
    "dfw['WS_ms_S_WVT'] = fd ['WS_ms_S_WVT']\n",
    "dfw['rs'] = fd ['Rs_net_Avg']\n",
    "dfw['LATITUD']='28º 55.117'\n",
    "dfw['LONGITU']='111º 18.638'\n",
    "dfw['altitud']='101'\n",
    "dfw['Date'] = dfw['Date'] + ' ' + dfw['Time']\n",
    "dfw['Date'] = pd.to_datetime(dfw.apply(lambda x: x['Date'], 1), dayfirst=True)\n",
    "dfw = dfw.set_index('Date')"
   ]
  },
  {
   "cell_type": "code",
   "execution_count": 4,
   "metadata": {},
   "outputs": [],
   "source": [
    "dfw['TMAX'] = dfw.resample('D')[\"AIRTC_AVG\"].max()\n",
    "dfw['albedo'] = dfw.resample('D')['albedo'].mean()\n",
    "dfw['TMIN'] = dfw.resample('D')['AIRTC_AVG'].min()\n",
    "dfw['TMEAN'] = dfw.resample('D')['AIRTC_AVG'].mean()\n",
    "dfw['RHMAX'] = dfw.resample('D')['RH'].max()\n",
    "dfw['RHMIN'] = dfw.resample('D')['RH'].min()\n",
    "dfw['RHMEAN'] = dfw.resample('D')['RH'].mean()\n",
    "dfw['RSmean'] = dfw.resample('D')['rs'].mean()\n",
    "dfwm = dfw.resample('D').mean()\n",
    "dfwmm = dfwm.resample('M').mean()\n",
    "dfwmm = dfwmm.rename_axis('Date').reset_index()\n",
    "dfwmm['LATITUD']='28º 55.117'\n",
    "dfwmm['LONGITU']='111º 18.638'\n",
    "dfwmm['altitud']='101'\n",
    "dfwmm = dfwmm[:-1]"
   ]
  },
  {
   "cell_type": "code",
   "execution_count": 5,
   "metadata": {},
   "outputs": [
    {
     "data": {
      "text/html": [
       "<div>\n",
       "<style scoped>\n",
       "    .dataframe tbody tr th:only-of-type {\n",
       "        vertical-align: middle;\n",
       "    }\n",
       "\n",
       "    .dataframe tbody tr th {\n",
       "        vertical-align: top;\n",
       "    }\n",
       "\n",
       "    .dataframe thead th {\n",
       "        text-align: right;\n",
       "    }\n",
       "</style>\n",
       "<table border=\"1\" class=\"dataframe\">\n",
       "  <thead>\n",
       "    <tr style=\"text-align: right;\">\n",
       "      <th></th>\n",
       "      <th>Date</th>\n",
       "      <th>albedo</th>\n",
       "      <th>AIRTC_AVG</th>\n",
       "      <th>RH</th>\n",
       "      <th>WS_ms_S_WVT</th>\n",
       "      <th>rs</th>\n",
       "      <th>TMAX</th>\n",
       "      <th>TMIN</th>\n",
       "      <th>TMEAN</th>\n",
       "      <th>RHMAX</th>\n",
       "      <th>RHMIN</th>\n",
       "      <th>RHMEAN</th>\n",
       "      <th>RSmean</th>\n",
       "      <th>LATITUD</th>\n",
       "      <th>LONGITU</th>\n",
       "      <th>altitud</th>\n",
       "    </tr>\n",
       "  </thead>\n",
       "  <tbody>\n",
       "    <tr>\n",
       "      <th>0</th>\n",
       "      <td>2018-01-31</td>\n",
       "      <td>-0.427896</td>\n",
       "      <td>17.040454</td>\n",
       "      <td>38.443696</td>\n",
       "      <td>1.939813</td>\n",
       "      <td>108.867028</td>\n",
       "      <td>27.352800</td>\n",
       "      <td>7.356400</td>\n",
       "      <td>16.923758</td>\n",
       "      <td>66.784800</td>\n",
       "      <td>13.938800</td>\n",
       "      <td>38.490158</td>\n",
       "      <td>113.231767</td>\n",
       "      <td>28º 55.117</td>\n",
       "      <td>111º 18.638</td>\n",
       "      <td>101</td>\n",
       "    </tr>\n",
       "    <tr>\n",
       "      <th>1</th>\n",
       "      <td>2018-02-28</td>\n",
       "      <td>-0.479853</td>\n",
       "      <td>17.228586</td>\n",
       "      <td>48.175327</td>\n",
       "      <td>1.963638</td>\n",
       "      <td>126.347946</td>\n",
       "      <td>25.320357</td>\n",
       "      <td>9.383929</td>\n",
       "      <td>17.228586</td>\n",
       "      <td>72.828571</td>\n",
       "      <td>25.725357</td>\n",
       "      <td>48.175327</td>\n",
       "      <td>126.347946</td>\n",
       "      <td>28º 55.117</td>\n",
       "      <td>111º 18.638</td>\n",
       "      <td>101</td>\n",
       "    </tr>\n",
       "    <tr>\n",
       "      <th>2</th>\n",
       "      <td>2018-03-31</td>\n",
       "      <td>-0.409502</td>\n",
       "      <td>19.284456</td>\n",
       "      <td>36.963024</td>\n",
       "      <td>1.925974</td>\n",
       "      <td>170.104845</td>\n",
       "      <td>29.519355</td>\n",
       "      <td>8.851613</td>\n",
       "      <td>19.284456</td>\n",
       "      <td>68.612903</td>\n",
       "      <td>15.204839</td>\n",
       "      <td>36.963024</td>\n",
       "      <td>170.104845</td>\n",
       "      <td>28º 55.117</td>\n",
       "      <td>111º 18.638</td>\n",
       "      <td>101</td>\n",
       "    </tr>\n",
       "    <tr>\n",
       "      <th>3</th>\n",
       "      <td>2018-04-30</td>\n",
       "      <td>-0.386014</td>\n",
       "      <td>21.883014</td>\n",
       "      <td>40.793118</td>\n",
       "      <td>2.102167</td>\n",
       "      <td>213.415479</td>\n",
       "      <td>32.671667</td>\n",
       "      <td>10.781667</td>\n",
       "      <td>21.883014</td>\n",
       "      <td>76.913667</td>\n",
       "      <td>15.712333</td>\n",
       "      <td>40.793118</td>\n",
       "      <td>213.415479</td>\n",
       "      <td>28º 55.117</td>\n",
       "      <td>111º 18.638</td>\n",
       "      <td>101</td>\n",
       "    </tr>\n",
       "    <tr>\n",
       "      <th>4</th>\n",
       "      <td>2018-05-31</td>\n",
       "      <td>-0.368202</td>\n",
       "      <td>23.651734</td>\n",
       "      <td>44.226781</td>\n",
       "      <td>2.113891</td>\n",
       "      <td>237.179395</td>\n",
       "      <td>34.133548</td>\n",
       "      <td>12.741935</td>\n",
       "      <td>23.651734</td>\n",
       "      <td>80.031290</td>\n",
       "      <td>17.229032</td>\n",
       "      <td>44.226781</td>\n",
       "      <td>237.179395</td>\n",
       "      <td>28º 55.117</td>\n",
       "      <td>111º 18.638</td>\n",
       "      <td>101</td>\n",
       "    </tr>\n",
       "    <tr>\n",
       "      <th>5</th>\n",
       "      <td>2018-06-30</td>\n",
       "      <td>-0.381063</td>\n",
       "      <td>28.417743</td>\n",
       "      <td>50.829132</td>\n",
       "      <td>2.154187</td>\n",
       "      <td>224.636507</td>\n",
       "      <td>36.968333</td>\n",
       "      <td>19.525333</td>\n",
       "      <td>28.417743</td>\n",
       "      <td>81.874667</td>\n",
       "      <td>26.013000</td>\n",
       "      <td>50.829132</td>\n",
       "      <td>224.636507</td>\n",
       "      <td>28º 55.117</td>\n",
       "      <td>111º 18.638</td>\n",
       "      <td>101</td>\n",
       "    </tr>\n",
       "    <tr>\n",
       "      <th>6</th>\n",
       "      <td>2018-07-31</td>\n",
       "      <td>-0.189483</td>\n",
       "      <td>31.069704</td>\n",
       "      <td>57.640027</td>\n",
       "      <td>2.022184</td>\n",
       "      <td>200.422735</td>\n",
       "      <td>38.419355</td>\n",
       "      <td>24.491935</td>\n",
       "      <td>31.069704</td>\n",
       "      <td>85.231290</td>\n",
       "      <td>32.805806</td>\n",
       "      <td>57.640027</td>\n",
       "      <td>200.422735</td>\n",
       "      <td>28º 55.117</td>\n",
       "      <td>111º 18.638</td>\n",
       "      <td>101</td>\n",
       "    </tr>\n",
       "    <tr>\n",
       "      <th>7</th>\n",
       "      <td>2018-08-31</td>\n",
       "      <td>-0.381197</td>\n",
       "      <td>30.121210</td>\n",
       "      <td>68.870202</td>\n",
       "      <td>1.911270</td>\n",
       "      <td>189.466653</td>\n",
       "      <td>36.985806</td>\n",
       "      <td>24.680645</td>\n",
       "      <td>30.121210</td>\n",
       "      <td>92.681613</td>\n",
       "      <td>42.205484</td>\n",
       "      <td>68.870202</td>\n",
       "      <td>189.466653</td>\n",
       "      <td>28º 55.117</td>\n",
       "      <td>111º 18.638</td>\n",
       "      <td>101</td>\n",
       "    </tr>\n",
       "    <tr>\n",
       "      <th>8</th>\n",
       "      <td>2018-09-30</td>\n",
       "      <td>-0.487950</td>\n",
       "      <td>29.660674</td>\n",
       "      <td>66.618340</td>\n",
       "      <td>1.790153</td>\n",
       "      <td>183.134257</td>\n",
       "      <td>37.576000</td>\n",
       "      <td>23.580667</td>\n",
       "      <td>29.660674</td>\n",
       "      <td>93.100000</td>\n",
       "      <td>36.606333</td>\n",
       "      <td>66.618340</td>\n",
       "      <td>183.134257</td>\n",
       "      <td>28º 55.117</td>\n",
       "      <td>111º 18.638</td>\n",
       "      <td>101</td>\n",
       "    </tr>\n",
       "    <tr>\n",
       "      <th>9</th>\n",
       "      <td>2018-10-31</td>\n",
       "      <td>-0.613819</td>\n",
       "      <td>23.242520</td>\n",
       "      <td>68.698320</td>\n",
       "      <td>1.664691</td>\n",
       "      <td>148.383145</td>\n",
       "      <td>31.346452</td>\n",
       "      <td>16.490645</td>\n",
       "      <td>23.242520</td>\n",
       "      <td>94.895484</td>\n",
       "      <td>37.131613</td>\n",
       "      <td>68.698320</td>\n",
       "      <td>148.383145</td>\n",
       "      <td>28º 55.117</td>\n",
       "      <td>111º 18.638</td>\n",
       "      <td>101</td>\n",
       "    </tr>\n",
       "    <tr>\n",
       "      <th>10</th>\n",
       "      <td>2018-11-30</td>\n",
       "      <td>-0.658709</td>\n",
       "      <td>16.965451</td>\n",
       "      <td>58.085785</td>\n",
       "      <td>1.498424</td>\n",
       "      <td>125.266875</td>\n",
       "      <td>28.002333</td>\n",
       "      <td>8.242333</td>\n",
       "      <td>16.965451</td>\n",
       "      <td>90.642667</td>\n",
       "      <td>22.502000</td>\n",
       "      <td>58.085785</td>\n",
       "      <td>125.266875</td>\n",
       "      <td>28º 55.117</td>\n",
       "      <td>111º 18.638</td>\n",
       "      <td>101</td>\n",
       "    </tr>\n",
       "    <tr>\n",
       "      <th>11</th>\n",
       "      <td>2018-12-31</td>\n",
       "      <td>-0.518876</td>\n",
       "      <td>14.332628</td>\n",
       "      <td>58.319039</td>\n",
       "      <td>1.628535</td>\n",
       "      <td>99.410927</td>\n",
       "      <td>24.349677</td>\n",
       "      <td>5.923548</td>\n",
       "      <td>14.332628</td>\n",
       "      <td>88.207419</td>\n",
       "      <td>25.355161</td>\n",
       "      <td>58.319039</td>\n",
       "      <td>99.410927</td>\n",
       "      <td>28º 55.117</td>\n",
       "      <td>111º 18.638</td>\n",
       "      <td>101</td>\n",
       "    </tr>\n",
       "  </tbody>\n",
       "</table>\n",
       "</div>"
      ],
      "text/plain": [
       "         Date    albedo  AIRTC_AVG         RH  WS_ms_S_WVT          rs  \\\n",
       "0  2018-01-31 -0.427896  17.040454  38.443696     1.939813  108.867028   \n",
       "1  2018-02-28 -0.479853  17.228586  48.175327     1.963638  126.347946   \n",
       "2  2018-03-31 -0.409502  19.284456  36.963024     1.925974  170.104845   \n",
       "3  2018-04-30 -0.386014  21.883014  40.793118     2.102167  213.415479   \n",
       "4  2018-05-31 -0.368202  23.651734  44.226781     2.113891  237.179395   \n",
       "5  2018-06-30 -0.381063  28.417743  50.829132     2.154187  224.636507   \n",
       "6  2018-07-31 -0.189483  31.069704  57.640027     2.022184  200.422735   \n",
       "7  2018-08-31 -0.381197  30.121210  68.870202     1.911270  189.466653   \n",
       "8  2018-09-30 -0.487950  29.660674  66.618340     1.790153  183.134257   \n",
       "9  2018-10-31 -0.613819  23.242520  68.698320     1.664691  148.383145   \n",
       "10 2018-11-30 -0.658709  16.965451  58.085785     1.498424  125.266875   \n",
       "11 2018-12-31 -0.518876  14.332628  58.319039     1.628535   99.410927   \n",
       "\n",
       "         TMAX       TMIN      TMEAN      RHMAX      RHMIN     RHMEAN  \\\n",
       "0   27.352800   7.356400  16.923758  66.784800  13.938800  38.490158   \n",
       "1   25.320357   9.383929  17.228586  72.828571  25.725357  48.175327   \n",
       "2   29.519355   8.851613  19.284456  68.612903  15.204839  36.963024   \n",
       "3   32.671667  10.781667  21.883014  76.913667  15.712333  40.793118   \n",
       "4   34.133548  12.741935  23.651734  80.031290  17.229032  44.226781   \n",
       "5   36.968333  19.525333  28.417743  81.874667  26.013000  50.829132   \n",
       "6   38.419355  24.491935  31.069704  85.231290  32.805806  57.640027   \n",
       "7   36.985806  24.680645  30.121210  92.681613  42.205484  68.870202   \n",
       "8   37.576000  23.580667  29.660674  93.100000  36.606333  66.618340   \n",
       "9   31.346452  16.490645  23.242520  94.895484  37.131613  68.698320   \n",
       "10  28.002333   8.242333  16.965451  90.642667  22.502000  58.085785   \n",
       "11  24.349677   5.923548  14.332628  88.207419  25.355161  58.319039   \n",
       "\n",
       "        RSmean     LATITUD      LONGITU altitud  \n",
       "0   113.231767  28º 55.117  111º 18.638     101  \n",
       "1   126.347946  28º 55.117  111º 18.638     101  \n",
       "2   170.104845  28º 55.117  111º 18.638     101  \n",
       "3   213.415479  28º 55.117  111º 18.638     101  \n",
       "4   237.179395  28º 55.117  111º 18.638     101  \n",
       "5   224.636507  28º 55.117  111º 18.638     101  \n",
       "6   200.422735  28º 55.117  111º 18.638     101  \n",
       "7   189.466653  28º 55.117  111º 18.638     101  \n",
       "8   183.134257  28º 55.117  111º 18.638     101  \n",
       "9   148.383145  28º 55.117  111º 18.638     101  \n",
       "10  125.266875  28º 55.117  111º 18.638     101  \n",
       "11   99.410927  28º 55.117  111º 18.638     101  "
      ]
     },
     "execution_count": 5,
     "metadata": {},
     "output_type": "execute_result"
    }
   ],
   "source": [
    "#La tabla solicitada\n",
    "dfwmm"
   ]
  },
  {
   "cell_type": "code",
   "execution_count": 6,
   "metadata": {},
   "outputs": [
    {
     "data": {
      "text/plain": [
       "<matplotlib.axes._subplots.AxesSubplot at 0x7ff9f4367dd8>"
      ]
     },
     "execution_count": 6,
     "metadata": {},
     "output_type": "execute_result"
    },
    {
     "data": {
      "image/png": "[encoded data removed]",
      "text/plain": [
       "<Figure size 432x288 with 1 Axes>"
      ]
     },
     "metadata": {
      "needs_background": "light"
     },
     "output_type": "display_data"
    }
   ],
   "source": [
    "#Se elabora la primera gráfica\n",
    "dfwmm.plot(x='Date',y=[\"TMAX\",\"TMIN\"])"
   ]
  },
  {
   "cell_type": "code",
   "execution_count": 7,
   "metadata": {},
   "outputs": [
    {
     "data": {
      "text/plain": [
       "<matplotlib.axes._subplots.AxesSubplot at 0x7ff9f4b3bd30>"
      ]
     },
     "execution_count": 7,
     "metadata": {},
     "output_type": "execute_result"
    },
    {
     "data": {
      "image/png": "[encoded data removed]",
      "text/plain": [
       "<Figure size 432x288 with 1 Axes>"
      ]
     },
     "metadata": {
      "needs_background": "light"
     },
     "output_type": "display_data"
    }
   ],
   "source": [
    "#Se elabora la segunda gráfica\n",
    "dfwmm.plot(x='Date', y=['RHMAX','RHMIN','RHMEAN'])"
   ]
  },
  {
   "cell_type": "code",
   "execution_count": 8,
   "metadata": {},
   "outputs": [
    {
     "data": {
      "text/plain": [
       "<matplotlib.axes._subplots.AxesSubplot at 0x7ff9f50117b8>"
      ]
     },
     "execution_count": 8,
     "metadata": {},
     "output_type": "execute_result"
    },
    {
     "data": {
      "image/png": "[encoded data removed]",
      "text/plain": [
       "<Figure size 432x288 with 1 Axes>"
      ]
     },
     "metadata": {
      "needs_background": "light"
     },
     "output_type": "display_data"
    }
   ],
   "source": [
    "#Se elabora la tercer gráfica\n",
    "dfwmm.plot(x='Date', y=['RSmean'])"
   ]
  },
  {
   "cell_type": "code",
   "execution_count": 9,
   "metadata": {},
   "outputs": [
    {
     "data": {
      "text/plain": [
       "0     1.096905\n",
       "1     0.966073\n",
       "2     1.263139\n",
       "3     1.431550\n",
       "4     1.493847\n",
       "5     1.511455\n",
       "6     1.371110\n",
       "7     1.200339\n",
       "8     1.257417\n",
       "9     1.085026\n",
       "10    1.030014\n",
       "11    0.907952\n",
       "dtype: float64"
      ]
     },
     "execution_count": 9,
     "metadata": {},
     "output_type": "execute_result"
    }
   ],
   "source": [
    "dfet = dfwmm.drop(dfw.columns[1:110], axis=1, inplace=False)   \n",
    "\n",
    "\n",
    "dfet['J&H'] = ((.0252  * dfwmm.TMEAN) + .078) * dfwmm.RSmean\n",
    "\n",
    "dfet ['Vali'] = ((.0393 * dfwmm.rs)*((dfwmm.TMEAN + 9.5)**(.5))) - (.019 * (dfwmm.rs)**(.6) * ((0.5047)**(.15)))\n",
    "+ .0061 * (dfwmm.TMEAN + 20) * (1.12 * dfwmm.TMEAN - dfwmm.TMIN - 2)**(.7)\n",
    "\n",
    "#Se tuvo dificultades para calcular Valiantzas 4"
   ]
  },
  {
   "cell_type": "code",
   "execution_count": 10,
   "metadata": {},
   "outputs": [
    {
     "data": {
      "text/html": [
       "<div>\n",
       "<style scoped>\n",
       "    .dataframe tbody tr th:only-of-type {\n",
       "        vertical-align: middle;\n",
       "    }\n",
       "\n",
       "    .dataframe tbody tr th {\n",
       "        vertical-align: top;\n",
       "    }\n",
       "\n",
       "    .dataframe thead th {\n",
       "        text-align: right;\n",
       "    }\n",
       "</style>\n",
       "<table border=\"1\" class=\"dataframe\">\n",
       "  <thead>\n",
       "    <tr style=\"text-align: right;\">\n",
       "      <th></th>\n",
       "      <th>Date</th>\n",
       "      <th>J&amp;H</th>\n",
       "      <th>Vali</th>\n",
       "    </tr>\n",
       "  </thead>\n",
       "  <tbody>\n",
       "    <tr>\n",
       "      <th>0</th>\n",
       "      <td>2018-01-31</td>\n",
       "      <td>57.123016</td>\n",
       "      <td>21.707101</td>\n",
       "    </tr>\n",
       "    <tr>\n",
       "      <th>1</th>\n",
       "      <td>2018-02-28</td>\n",
       "      <td>64.710412</td>\n",
       "      <td>25.358636</td>\n",
       "    </tr>\n",
       "    <tr>\n",
       "      <th>2</th>\n",
       "      <td>2018-03-31</td>\n",
       "      <td>95.933737</td>\n",
       "      <td>35.492638</td>\n",
       "    </tr>\n",
       "    <tr>\n",
       "      <th>3</th>\n",
       "      <td>2018-04-30</td>\n",
       "      <td>134.334790</td>\n",
       "      <td>46.557414</td>\n",
       "    </tr>\n",
       "    <tr>\n",
       "      <th>4</th>\n",
       "      <td>2018-05-31</td>\n",
       "      <td>159.864532</td>\n",
       "      <td>53.212588</td>\n",
       "    </tr>\n",
       "    <tr>\n",
       "      <th>5</th>\n",
       "      <td>2018-06-30</td>\n",
       "      <td>178.389943</td>\n",
       "      <td>53.920169</td>\n",
       "    </tr>\n",
       "    <tr>\n",
       "      <th>6</th>\n",
       "      <td>2018-07-31</td>\n",
       "      <td>172.555266</td>\n",
       "      <td>49.757124</td>\n",
       "    </tr>\n",
       "    <tr>\n",
       "      <th>7</th>\n",
       "      <td>2018-08-31</td>\n",
       "      <td>158.593912</td>\n",
       "      <td>46.470604</td>\n",
       "    </tr>\n",
       "    <tr>\n",
       "      <th>8</th>\n",
       "      <td>2018-09-30</td>\n",
       "      <td>151.167985</td>\n",
       "      <td>44.648118</td>\n",
       "    </tr>\n",
       "    <tr>\n",
       "      <th>9</th>\n",
       "      <td>2018-10-31</td>\n",
       "      <td>98.483601</td>\n",
       "      <td>33.023849</td>\n",
       "    </tr>\n",
       "    <tr>\n",
       "      <th>10</th>\n",
       "      <td>2018-11-30</td>\n",
       "      <td>63.326085</td>\n",
       "      <td>25.015000</td>\n",
       "    </tr>\n",
       "    <tr>\n",
       "      <th>11</th>\n",
       "      <td>2018-12-31</td>\n",
       "      <td>43.659512</td>\n",
       "      <td>18.801908</td>\n",
       "    </tr>\n",
       "  </tbody>\n",
       "</table>\n",
       "</div>"
      ],
      "text/plain": [
       "         Date         J&H       Vali\n",
       "0  2018-01-31   57.123016  21.707101\n",
       "1  2018-02-28   64.710412  25.358636\n",
       "2  2018-03-31   95.933737  35.492638\n",
       "3  2018-04-30  134.334790  46.557414\n",
       "4  2018-05-31  159.864532  53.212588\n",
       "5  2018-06-30  178.389943  53.920169\n",
       "6  2018-07-31  172.555266  49.757124\n",
       "7  2018-08-31  158.593912  46.470604\n",
       "8  2018-09-30  151.167985  44.648118\n",
       "9  2018-10-31   98.483601  33.023849\n",
       "10 2018-11-30   63.326085  25.015000\n",
       "11 2018-12-31   43.659512  18.801908"
      ]
     },
     "execution_count": 10,
     "metadata": {},
     "output_type": "execute_result"
    }
   ],
   "source": [
    "dfet"
   ]
  },
  {
   "cell_type": "code",
   "execution_count": 11,
   "metadata": {},
   "outputs": [],
   "source": [
    "dfu = df[['Rg_f', 'LE_f', 'H_f', 'Hour', 'DoY', 'Year' ]].copy()"
   ]
  },
  {
   "cell_type": "code",
   "execution_count": 12,
   "metadata": {},
   "outputs": [
    {
     "data": {
      "text/plain": [
       "<matplotlib.axes._subplots.AxesSubplot at 0x7ff9f6327668>"
      ]
     },
     "execution_count": 12,
     "metadata": {},
     "output_type": "execute_result"
    },
    {
     "data": {
      "image/png": "[encoded data removed]",
      "text/plain": [
       "<Figure size 432x288 with 1 Axes>"
      ]
     },
     "metadata": {
      "needs_background": "light"
     },
     "output_type": "display_data"
    }
   ],
   "source": [
    "dfu = dfu.apply(pd.to_numeric, errors='coerce')\n",
    "dfu[\"Rg_f\"] = dfu.groupby([\"Hour\"])[\"Rg_f\"].transform(\"mean\")\n",
    "dfu[\"LE_f\"] = dfu.groupby([\"Hour\"])[\"LE_f\"].transform(\"mean\")\n",
    "dfu[\"H_f\"] = dfu.groupby([\"Hour\"])[\"H_f\"].transform(\"mean\")\n",
    "\n",
    "\n",
    "\n",
    "dfu.plot(x='Hour', y=[('Rg_f'),('LE_f'),('H_f')])"
   ]
  }
 ],
 "metadata": {
  "kernelspec": {
   "display_name": "Python 3",
   "language": "python",
   "name": "python3"
  },
  "language_info": {
   "codemirror_mode": {
    "name": "ipython",
    "version": 3
   },
   "file_extension": ".py",
   "mimetype": "text/x-python",
   "name": "python",
   "nbconvert_exporter": "python",
   "pygments_lexer": "ipython3",
   "version": "3.7.1"
  }
 },
 "nbformat": 4,
 "nbformat_minor": 2
}
